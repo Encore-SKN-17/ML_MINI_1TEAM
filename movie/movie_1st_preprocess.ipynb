{
 "cells": [
  {
   "cell_type": "code",
   "execution_count": 1,
   "id": "5c3b6436",
   "metadata": {},
   "outputs": [],
   "source": [
    "import numpy as np\n",
    "import pandas as pd"
   ]
  },
  {
   "cell_type": "markdown",
   "id": "929ad568",
   "metadata": {},
   "source": [
    "# 1980 - 2025 데이터 합치기 & 전처리"
   ]
  },
  {
   "cell_type": "code",
   "execution_count": 2,
   "id": "1e208b12",
   "metadata": {},
   "outputs": [],
   "source": [
    "def transform_duration_minutes(df):\n",
    "    \"\"\"\n",
    "    1. 'Duration' 컬럼의 문자열로 되어있는 상영시간을 분석하여,\n",
    "       'Duration_minute'라는 새 컬럼에 int타입으로 전체 상영시간 분(minute)으로 변환\n",
    "    2. 'Duration' 컬럼 제거\n",
    "    3. 결측치(NaN)는 중앙값(median)으로 대체\n",
    "    \"\"\"\n",
    "\n",
    "    # helper function\n",
    "    def parse_duration(duration):\n",
    "        if not isinstance(duration, str) or duration.strip() == \"\":\n",
    "            return np.nan\n",
    "        hours, minutes = 0, 0\n",
    "\n",
    "        if 'h' in duration:\n",
    "            h_split = duration.split('h')\n",
    "            hours = int(h_split[0].strip())\n",
    "            if 'm' in h_split[1]:\n",
    "                minutes = int(h_split[1].replace('m', '').strip())\n",
    "        elif 'm' in duration:\n",
    "            minutes = int(duration.replace('m', '').strip())\n",
    "        \n",
    "        return hours * 60 + minutes\n",
    "\n",
    "    # 1. 변환\n",
    "    df['Duration_minute'] = df['Duration'].apply(parse_duration)\n",
    "\n",
    "    # 2. Drop original column\n",
    "    df.drop(columns=['Duration'], inplace=True)\n",
    "\n",
    "    # 3. 결측값 -> 중앙값으로 대체\n",
    "    median_duration = df['Duration_minute'].median()\n",
    "    df['Duration_minute'] = df['Duration_minute'].fillna(median_duration)\n",
    "\n",
    "    return df\n"
   ]
  },
  {
   "cell_type": "code",
   "execution_count": 3,
   "id": "a23be570",
   "metadata": {},
   "outputs": [
    {
     "name": "stderr",
     "output_type": "stream",
     "text": [
      "C:\\Users\\Playdata\\AppData\\Local\\Temp\\ipykernel_25036\\999759043.py:26: FutureWarning: The behavior of DataFrame concatenation with empty or all-NA entries is deprecated. In a future version, this will no longer exclude empty or all-NA columns when determining the result dtypes. To retain the old behavior, exclude the relevant entries before the concat operation.\n",
      "  movie_df = pd.concat([movie_df,temp_df], axis=0) # 행 기준 병합\n"
     ]
    }
   ],
   "source": [
    "## 1980 - 2025 데이터 합치기\n",
    "\n",
    "# 계속 합칠(업데이트 할) DataFrame 틀 만들기\n",
    "movie_df = pd.DataFrame(columns=['Title', 'Year', 'MPA', 'budget', 'countries_origin', 'genres', 'Duration_minute'])\n",
    "#display(movie_df)\n",
    "\n",
    "years = list(range(1980, 2026))\n",
    "for year in years:\n",
    "    path = f'./movie_data/{year}/merged_movies_data_{year}.csv'\n",
    "    temp_df = pd.read_csv(path)\n",
    "    \n",
    "    # 필요 없는 column 제거 (['Rating', 'Votes', 'méta_score', 'description', 'Movie Link', 'writers', 'directors', 'stars', 'opening_weekend_Gross', 'grossWorldWWide', 'gross_US_Canada', 'filming_locations', 'production_company', 'awards_content', 'Languages', 'release_date'])\n",
    "    temp_df = temp_df.drop(['Rating','Votes', 'méta_score', 'description', 'Movie Link', 'writers', 'directors', 'stars', 'opening_weekend_Gross', 'grossWorldWWide', 'gross_US_Canada', 'filming_locations', 'production_company', 'awards_content', 'Languages', 'release_date'], axis=1)\n",
    "    \n",
    "    # Duration 변환: e.g. 2h 4m -> 124\n",
    "    temp_df = transform_duration_minutes(temp_df)\n",
    "    \n",
    "    # MPA(상영등급) 전처리: 'Not Rated' 및 결측 상영등급 'Unrated'로 변환\n",
    "    temp_df['MPA'] = temp_df['MPA'].fillna('Unrated')\n",
    "    temp_df.loc[temp_df['MPA'] == 'Not Rated', 'MPA'] = 'Unrated'\n",
    "    \n",
    "    # countries_origin(상영국가) 결측치 처리: 'Unknown'으로 바꿈\n",
    "    temp_df['countries_origin'] = temp_df['countries_origin'].fillna(\"['Unknown']\")\n",
    "    \n",
    "    # 기존 dataframe이랑 병합\n",
    "    movie_df = pd.concat([movie_df,temp_df], axis=0) # 행 기준 병합\n",
    "    "
   ]
  },
  {
   "cell_type": "code",
   "execution_count": 4,
   "id": "6b2535fc",
   "metadata": {},
   "outputs": [],
   "source": [
    "movie_df.to_csv('movie_1980_2025.csv', index=False)"
   ]
  },
  {
   "cell_type": "code",
   "execution_count": 5,
   "id": "c83f8eae",
   "metadata": {},
   "outputs": [
    {
     "data": {
      "text/html": [
       "<div>\n",
       "<style scoped>\n",
       "    .dataframe tbody tr th:only-of-type {\n",
       "        vertical-align: middle;\n",
       "    }\n",
       "\n",
       "    .dataframe tbody tr th {\n",
       "        vertical-align: top;\n",
       "    }\n",
       "\n",
       "    .dataframe thead th {\n",
       "        text-align: right;\n",
       "    }\n",
       "</style>\n",
       "<table border=\"1\" class=\"dataframe\">\n",
       "  <thead>\n",
       "    <tr style=\"text-align: right;\">\n",
       "      <th></th>\n",
       "      <th>Title</th>\n",
       "      <th>Year</th>\n",
       "      <th>MPA</th>\n",
       "      <th>budget</th>\n",
       "      <th>countries_origin</th>\n",
       "      <th>genres</th>\n",
       "      <th>Duration_minute</th>\n",
       "    </tr>\n",
       "  </thead>\n",
       "  <tbody>\n",
       "    <tr>\n",
       "      <th>67</th>\n",
       "      <td>68. How to Become a Detective</td>\n",
       "      <td>1980</td>\n",
       "      <td>Unrated</td>\n",
       "      <td>NaN</td>\n",
       "      <td>['Unknown']</td>\n",
       "      <td>[]</td>\n",
       "      <td>97.0</td>\n",
       "    </tr>\n",
       "    <tr>\n",
       "      <th>338</th>\n",
       "      <td>339. Black Hawk Down</td>\n",
       "      <td>1997</td>\n",
       "      <td>Unrated</td>\n",
       "      <td>NaN</td>\n",
       "      <td>['Unknown']</td>\n",
       "      <td>['Documentary']</td>\n",
       "      <td>57.0</td>\n",
       "    </tr>\n",
       "  </tbody>\n",
       "</table>\n",
       "</div>"
      ],
      "text/plain": [
       "                             Title  Year      MPA budget countries_origin  \\\n",
       "67   68. How to Become a Detective  1980  Unrated    NaN      ['Unknown']   \n",
       "338           339. Black Hawk Down  1997  Unrated    NaN      ['Unknown']   \n",
       "\n",
       "              genres  Duration_minute  \n",
       "67                []             97.0  \n",
       "338  ['Documentary']             57.0  "
      ]
     },
     "metadata": {},
     "output_type": "display_data"
    },
    {
     "name": "stdout",
     "output_type": "stream",
     "text": [
      "<class 'str'>\n"
     ]
    }
   ],
   "source": [
    "display(movie_df[movie_df['countries_origin']==\"['Unknown']\"].head(2))\n",
    "print(type(movie_df['countries_origin'].iloc[0]))\n"
   ]
  },
  {
   "cell_type": "code",
   "execution_count": null,
   "id": "da9578b3",
   "metadata": {},
   "outputs": [],
   "source": []
  }
 ],
 "metadata": {
  "kernelspec": {
   "display_name": "pystudy_env",
   "language": "python",
   "name": "python3"
  },
  "language_info": {
   "codemirror_mode": {
    "name": "ipython",
    "version": 3
   },
   "file_extension": ".py",
   "mimetype": "text/x-python",
   "name": "python",
   "nbconvert_exporter": "python",
   "pygments_lexer": "ipython3",
   "version": "3.12.11"
  }
 },
 "nbformat": 4,
 "nbformat_minor": 5
}
