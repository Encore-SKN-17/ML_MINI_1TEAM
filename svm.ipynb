{
 "cells": [
  {
   "cell_type": "code",
   "execution_count": 174,
   "id": "7744bbdb",
   "metadata": {},
   "outputs": [],
   "source": [
    "import pandas as pd\n",
    "import numpy as np\n",
    "import ast\n",
    "\n",
    "movie_df = pd.read_csv('movies_1980_2025.csv')\n",
    "\n",
    "\n",
    "def safe_literal_eval_clean(x):\n",
    "    # None이나 NaN 값 먼저 걸러냄\n",
    "    if x is None or (isinstance(x, float) and pd.isna(x)):\n",
    "        return []\n",
    "\n",
    "    try:\n",
    "        # 문자열인 경우: literal_eval 시도\n",
    "        if isinstance(x, str):\n",
    "            x = x.replace('\"\"', '\"').strip()\n",
    "            if x.startswith('[') and x.endswith(']'):\n",
    "                result = ast.literal_eval(x)\n",
    "            else:\n",
    "                result = [x]\n",
    "        # 리스트인 경우: 그대로 사용\n",
    "        elif isinstance(x, list):\n",
    "            result = x\n",
    "        # 그 외는 단일값으로 리스트화\n",
    "        else:\n",
    "            result = [x]\n",
    "\n",
    "        # 결과가 리스트인 경우, 요소를 문자열로 정리\n",
    "        if isinstance(result, list):\n",
    "            return [str(item).strip() for item in result if item is not None and str(item).strip() != '']\n",
    "        else:\n",
    "            return [str(result).strip()]\n",
    "\n",
    "    except:\n",
    "        return []\n",
    "\n",
    "\n",
    "\n",
    "target_cols = [\n",
    "    'writers',\n",
    "    'directors',\n",
    "    'stars',\n",
    "    'production_company',\n",
    "    'Languages',\n",
    "    'countries_origin',\n",
    "    'genres_imdb'\n",
    "]\n",
    "\n",
    "for col in target_cols:\n",
    "    movie_df[col] = movie_df[col].apply(safe_literal_eval_clean)"
   ]
  },
  {
   "cell_type": "code",
   "execution_count": 175,
   "id": "3c75321b",
   "metadata": {},
   "outputs": [
    {
     "data": {
      "text/plain": [
       "list"
      ]
     },
     "execution_count": 175,
     "metadata": {},
     "output_type": "execute_result"
    }
   ],
   "source": [
    "type(movie_df['genres_imdb'].iloc[0])"
   ]
  },
  {
   "cell_type": "code",
   "execution_count": 176,
   "id": "aa269867",
   "metadata": {},
   "outputs": [
    {
     "name": "stdout",
     "output_type": "stream",
     "text": [
      "[('Action', 4136), ('Adult', 173), ('Adventure', 2674), ('Animation', 863), ('Biography', 1421), ('Comedy', 7740), ('Crime', 3459), ('Documentary', 1798), ('Drama', 11985), ('Family', 1496), ('Fantasy', 1918), ('Game Show', 1), ('History', 984), ('Horror', 2708), ('Music', 1438), ('Musical', 489), ('Mystery', 2109), ('News', 51), ('Romance', 4543), ('Sci-Fi', 1869), ('Sport', 673), ('Thriller', 5394), ('War', 787), ('Western', 283)]\n"
     ]
    }
   ],
   "source": [
    "from collections import Counter\n",
    "genre_counts = Counter([g for sublist in movie_df['genres_imdb'] for g in sublist])\n",
    "print(sorted(genre_counts.items()))"
   ]
  },
  {
   "cell_type": "markdown",
   "id": "87291f53",
   "metadata": {},
   "source": [
    "## 다중 장르 One-Hot encoding"
   ]
  },
  {
   "cell_type": "code",
   "execution_count": 177,
   "id": "e692f65a",
   "metadata": {},
   "outputs": [
    {
     "name": "stdout",
     "output_type": "stream",
     "text": [
      "['Action', 'Adult', 'Adventure', 'Animation', 'Biography', 'Comedy', 'Crime', 'Documentary', 'Drama', 'Family', 'Fantasy', 'Game Show', 'History', 'Horror', 'Music', 'Musical', 'Mystery', 'News', 'Romance', 'Sci-Fi', 'Sport', 'Thriller', 'War', 'Western']\n"
     ]
    }
   ],
   "source": [
    "from sklearn.preprocessing import MultiLabelBinarizer\n",
    "\n",
    "mlb = MultiLabelBinarizer()\n",
    "genres_one_hot = mlb.fit_transform(movie_df['genres_imdb'])\n",
    "genres_df = pd.DataFrame(genres_one_hot, columns=mlb.classes_)\n",
    "\n",
    "# 기존 movie_df에 붙이기\n",
    "movie_df = pd.concat([movie_df, genres_df], axis=1)\n",
    "\n",
    "# 인코딩한 클래스 종류\n",
    "print(sorted(mlb.classes_))"
   ]
  },
  {
   "cell_type": "code",
   "execution_count": 178,
   "id": "3daad739",
   "metadata": {},
   "outputs": [
    {
     "data": {
      "text/html": [
       "<div>\n",
       "<style scoped>\n",
       "    .dataframe tbody tr th:only-of-type {\n",
       "        vertical-align: middle;\n",
       "    }\n",
       "\n",
       "    .dataframe tbody tr th {\n",
       "        vertical-align: top;\n",
       "    }\n",
       "\n",
       "    .dataframe thead th {\n",
       "        text-align: right;\n",
       "    }\n",
       "</style>\n",
       "<table border=\"1\" class=\"dataframe\">\n",
       "  <thead>\n",
       "    <tr style=\"text-align: right;\">\n",
       "      <th></th>\n",
       "      <th>Action</th>\n",
       "      <th>Adventure</th>\n",
       "      <th>Fantasy</th>\n",
       "      <th>Horror</th>\n",
       "      <th>Drama</th>\n",
       "      <th>Game Show</th>\n",
       "      <th>History</th>\n",
       "    </tr>\n",
       "  </thead>\n",
       "  <tbody>\n",
       "    <tr>\n",
       "      <th>0</th>\n",
       "      <td>1</td>\n",
       "      <td>1</td>\n",
       "      <td>1</td>\n",
       "      <td>0</td>\n",
       "      <td>0</td>\n",
       "      <td>0</td>\n",
       "      <td>0</td>\n",
       "    </tr>\n",
       "  </tbody>\n",
       "</table>\n",
       "</div>"
      ],
      "text/plain": [
       "   Action  Adventure  Fantasy  Horror  Drama  Game Show  History\n",
       "0       1          1        1       0      0          0        0"
      ]
     },
     "execution_count": 178,
     "metadata": {},
     "output_type": "execute_result"
    }
   ],
   "source": [
    "# 인코딩 결과 테스트\n",
    "movie_df.loc[0:0, ['Action', 'Adventure', 'Fantasy', 'Horror', 'Drama', 'Game Show', 'History']]"
   ]
  },
  {
   "cell_type": "markdown",
   "id": "8591dd9e",
   "metadata": {},
   "source": [
    "## 상영등급 One-Hot Encoding"
   ]
  },
  {
   "cell_type": "code",
   "execution_count": null,
   "id": "03a21c20",
   "metadata": {},
   "outputs": [
    {
     "data": {
      "text/plain": [
       "Index(['Title', 'Year', 'MPA', 'Rating', 'Votes', 'writers', 'directors',\n",
       "       'stars', 'countries_origin', 'production_company', 'Languages',\n",
       "       'Duration_minute', 'budget_usd', 'genres_imdb', 'popularity_score',\n",
       "       'Action', 'Adult', 'Adventure', 'Animation', 'Biography', 'Comedy',\n",
       "       'Crime', 'Documentary', 'Drama', 'Family', 'Fantasy', 'Game Show',\n",
       "       'History', 'Horror', 'Music', 'Musical', 'Mystery', 'News', 'Romance',\n",
       "       'Sci-Fi', 'Sport', 'Thriller', 'War', 'Western', 'MPA_13+', 'MPA_16+',\n",
       "       'MPA_18+', 'MPA_Approved', 'MPA_G', 'MPA_M', 'MPA_MA-17', 'MPA_NC-17',\n",
       "       'MPA_Not Rated', 'MPA_PG', 'MPA_PG-13', 'MPA_R', 'MPA_TV-14',\n",
       "       'MPA_TV-G', 'MPA_TV-MA', 'MPA_TV-PG', 'MPA_TV-Y', 'MPA_TV-Y7',\n",
       "       'MPA_TV-Y7-FV', 'MPA_Unrated', 'MPA_X'],\n",
       "      dtype='object')"
      ]
     },
     "execution_count": 179,
     "metadata": {},
     "output_type": "execute_result"
    }
   ],
   "source": [
    "mpa_ohe = pd.get_dummies(movie_df['MPA'], prefix='MPA', dtype=int)\n",
    "\n",
    "# 기존 movie_df에 병합\n",
    "movie_df = pd.concat([movie_df, mpa_ohe], axis=1)\n",
    "\n",
    "movie_df.columns"
   ]
  },
  {
   "cell_type": "markdown",
   "id": "ccf56392",
   "metadata": {},
   "source": [
    "# 아무것도 안하고 그냥 돌려보기"
   ]
  },
  {
   "cell_type": "code",
   "execution_count": 190,
   "id": "55d1157e",
   "metadata": {},
   "outputs": [],
   "source": [
    "from sklearn.model_selection import train_test_split\n",
    "X = movie_df.drop(['Title','Year','genres_imdb','MPA', 'Rating', 'Votes', 'writers','directors','stars','countries_origin','production_company','Languages','budget_usd','popularity_score'], axis=1)\n",
    "y = movie_df['popularity_score']\n",
    "\n",
    "X_train, X_test, y_train, y_test = train_test_split(X,y,random_state=42)"
   ]
  },
  {
   "cell_type": "code",
   "execution_count": 191,
   "id": "baefbb5d",
   "metadata": {},
   "outputs": [],
   "source": [
    "from sklearn.svm import SVR\n",
    "\n",
    "svr_rbf = SVR(kernel='rbf')\n",
    "svr_rbf.fit(X_train, y_train)\n",
    "\n",
    "y_pred_train = svr_rbf.predict(X_train)\n",
    "y_pred_test = svr_rbf.predict(X_test)"
   ]
  },
  {
   "cell_type": "code",
   "execution_count": 193,
   "id": "1e1b0663",
   "metadata": {},
   "outputs": [
    {
     "name": "stdout",
     "output_type": "stream",
     "text": [
      "<훈련 데이터 점수>\n",
      "MSE: 1116116399361.1191\n",
      "RMSE: 1056464.1022586233\n",
      "MAE: 303404.12735620415\n",
      "MSLE: 4.9232041017616135\n",
      "RMSLE: 2.218829444045128\n",
      "R2: -0.07532818226409321\n",
      "\n",
      "<평가 데이터 점수\n",
      "MSE: 1381715263213.3066\n",
      "RMSE: 1175463.8502367083\n",
      "MAE: 317057.94153826626\n",
      "MSLE: 4.924627568162761\n",
      "RMSLE: 2.2191501905375315\n",
      "R2: -0.06619324734756082\n"
     ]
    }
   ],
   "source": [
    "from sklearn.metrics import mean_squared_error          # MSE (평균 제곱 오차)\n",
    "from sklearn.metrics import root_mean_squared_error     # RMSE (제곱 평균 제곱근 오차)\n",
    "from sklearn.metrics import mean_absolute_error         # MAE (평균 절대 오차)\n",
    "from sklearn.metrics import mean_squared_log_error      # MSLE (평균 제곱 로그 오차)\n",
    "from sklearn.metrics import root_mean_squared_log_error # RMSLE (제곱 평균 제곱근 로그 오차)\n",
    "from sklearn.metrics import r2_score                    # R^2 결정계수\n",
    "\n",
    "def eval(y_test, y_pred):\n",
    "    print(f\"MSE:\",mean_squared_error(y_test, y_pred))\n",
    "    print(f\"RMSE:\", root_mean_squared_error(y_test, y_pred))\n",
    "    print(f\"MAE:\", mean_absolute_error(y_test, y_pred))\n",
    "    print(f\"MSLE:\", mean_squared_log_error(y_test, y_pred))\n",
    "    print(f\"RMSLE:\", root_mean_squared_log_error(y_test, y_pred))\n",
    "    print(f\"R2:\", r2_score(y_test, y_pred))\n",
    "\n",
    "print(\"<훈련 데이터 점수>\")  \n",
    "eval(y_train, y_pred_train)\n",
    "\n",
    "print()\n",
    "\n",
    "print(\"<평가 데이터 점수\")  \n",
    "eval(y_test, y_pred_test)"
   ]
  },
  {
   "cell_type": "markdown",
   "id": "8c22b5b8",
   "metadata": {},
   "source": [
    "# popularity_score 로그 스케일로 변환 \n",
    "- EDA과정에서 로그 변환 후에는 인기도 점수가 중심을 기준으로 대칭적인 종형 곡선을 보임"
   ]
  },
  {
   "cell_type": "code",
   "execution_count": 194,
   "id": "ecd2d152",
   "metadata": {},
   "outputs": [],
   "source": [
    "movie_df['popularity_score_log'] = np.log1p(movie_df['popularity_score'])\n",
    "\n",
    "\n",
    "from sklearn.model_selection import train_test_split\n",
    "X = movie_df.drop(['Title','Year','genres_imdb','MPA', 'Rating', 'Votes', 'writers','directors','stars','countries_origin','production_company','Languages','budget_usd','popularity_score', 'popularity_score_log'], axis=1)\n",
    "y = movie_df['popularity_score_log']\n",
    "\n",
    "X_train, X_test, y_train, y_test = train_test_split(X,y,random_state=42)"
   ]
  },
  {
   "cell_type": "markdown",
   "id": "93664dca",
   "metadata": {},
   "source": [
    "### 엄청나게 성능이 올라감 1\n",
    "- R2: -0.07 => 0.18"
   ]
  },
  {
   "cell_type": "code",
   "execution_count": 195,
   "id": "967a0d65",
   "metadata": {},
   "outputs": [
    {
     "name": "stdout",
     "output_type": "stream",
     "text": [
      "<훈련 데이터 점수>\n",
      "MSE: 3.9968004966888944\n",
      "RMSE: 1.9991999641578864\n",
      "MAE: 1.6347207998150806\n",
      "MSLE: 0.03262831666702482\n",
      "RMSLE: 0.18063309958871\n",
      "R2: 0.18921734756072472\n",
      "\n",
      "<평가 데이터 점수\n",
      "MSE: 4.0312106823909\n",
      "RMSE: 2.0077875092725574\n",
      "MAE: 1.64788819314736\n",
      "MSLE: 0.03266159502647777\n",
      "RMSLE: 0.18072519200841308\n",
      "R2: 0.18268145808177572\n"
     ]
    }
   ],
   "source": [
    "svr_rbf = SVR(kernel='rbf')\n",
    "svr_rbf.fit(X_train, y_train)\n",
    "\n",
    "y_pred_train = svr_rbf.predict(X_train)\n",
    "y_pred_test = svr_rbf.predict(X_test)\n",
    "\n",
    "print(\"<훈련 데이터 점수>\")  \n",
    "eval(y_train, y_pred_train)\n",
    "\n",
    "print()\n",
    "\n",
    "print(\"<평가 데이터 점수\")  \n",
    "eval(y_test, y_pred_test)"
   ]
  },
  {
   "cell_type": "markdown",
   "id": "0e59be11",
   "metadata": {},
   "source": [
    "# GridSearchSV 적용해보기"
   ]
  },
  {
   "cell_type": "code",
   "execution_count": 196,
   "id": "b9b3fbf6",
   "metadata": {},
   "outputs": [
    {
     "name": "stdout",
     "output_type": "stream",
     "text": [
      "<훈련 데이터 점수>\n",
      "MSE: 3.9968004966888944\n",
      "RMSE: 1.9991999641578864\n",
      "MAE: 1.6347207998150806\n",
      "MSLE: 0.03262831666702482\n",
      "RMSLE: 0.18063309958871\n",
      "R2: 0.18921734756072472\n",
      "\n",
      "<평가 데이터 점수\n",
      "MSE: 4.0312106823909\n",
      "RMSE: 2.0077875092725574\n",
      "MAE: 1.64788819314736\n",
      "MSLE: 0.03266159502647777\n",
      "RMSLE: 0.18072519200841308\n",
      "R2: 0.18268145808177572\n"
     ]
    }
   ],
   "source": [
    "from sklearn.model_selection import GridSearchCV\n",
    "\n",
    "svr = SVR()\n",
    "\n",
    "params = {\n",
    "    'C': [0.01, 0.1, 1],\n",
    "    'kernel': ['linear', 'poly', 'rbf', 'sigmoid'],\n",
    "    'epsilon': [0.01, 0.1, 1]\n",
    "}\n",
    "grid = GridSearchCV(svr, params, cv=5)\n",
    "grid.fit(X_train,y_train)\n",
    "\n",
    "best_model = grid.best_estimator_\n",
    "\n",
    "y_pred_train = best_model.predict(X_train)\n",
    "y_pred_test = best_model.predict(X_test)\n",
    "\n",
    "print(\"<훈련 데이터 점수>\")  \n",
    "eval(y_train, y_pred_train)\n",
    "\n",
    "print()\n",
    "\n",
    "print(\"<평가 데이터 점수\")  \n",
    "eval(y_test, y_pred_test)"
   ]
  },
  {
   "cell_type": "code",
   "execution_count": 197,
   "id": "5c7ecd09",
   "metadata": {},
   "outputs": [
    {
     "data": {
      "text/plain": [
       "{'C': 1, 'epsilon': 0.1, 'kernel': 'rbf'}"
      ]
     },
     "execution_count": 197,
     "metadata": {},
     "output_type": "execute_result"
    }
   ],
   "source": [
    "grid.best_params_"
   ]
  },
  {
   "cell_type": "markdown",
   "id": "b63509b5",
   "metadata": {},
   "source": [
    "최적의 하이퍼파라미터를 찾는 방식과 Cross-Validation을 적용해도 성능이 더 올라가지 않음"
   ]
  },
  {
   "cell_type": "markdown",
   "id": "5d1decb1",
   "metadata": {},
   "source": [
    "# Duration_minute 빼보기\n",
    "- EDA 과정에서 popularity_score와 상관계수가 매우 낮았으므로"
   ]
  },
  {
   "cell_type": "code",
   "execution_count": null,
   "id": "da94357d",
   "metadata": {},
   "outputs": [],
   "source": [
    "X = X.drop('Duration_minute', axis=1)\n",
    "X_train, X_test, y_train, y_test = train_test_split(X,y,random_state=42)"
   ]
  },
  {
   "cell_type": "code",
   "execution_count": 203,
   "id": "f8f00f0c",
   "metadata": {},
   "outputs": [
    {
     "name": "stdout",
     "output_type": "stream",
     "text": [
      "<훈련 데이터 점수>\n",
      "MSE: 3.3896675916201846\n",
      "RMSE: 1.8411049920143567\n",
      "MAE: 1.438979026580366\n",
      "MSLE: 0.027696276756333356\n",
      "RMSLE: 0.16642198399350175\n",
      "R2: 0.31237906843285057\n",
      "\n",
      "<평가 데이터 점수>\n",
      "MSE: 3.7140039753292458\n",
      "RMSE: 1.9271751283495866\n",
      "MAE: 1.5399126433515333\n",
      "MSLE: 0.029953681446301235\n",
      "RMSLE: 0.1730713189592696\n",
      "R2: 0.2469943763906115\n"
     ]
    }
   ],
   "source": [
    "svr_rbf = SVR(kernel='rbf')\n",
    "svr_rbf.fit(X_train, y_train)\n",
    "\n",
    "y_pred_train = svr_rbf.predict(X_train)\n",
    "y_pred_test = svr_rbf.predict(X_test)\n",
    "\n",
    "print(\"<훈련 데이터 점수>\")  \n",
    "eval(y_train, y_pred_train)\n",
    "\n",
    "print()\n",
    "\n",
    "print(\"<평가 데이터 점수>\")  \n",
    "eval(y_test, y_pred_test)"
   ]
  },
  {
   "cell_type": "markdown",
   "id": "158e0810",
   "metadata": {},
   "source": [
    "**결과**: Overfitting이 약간 있지만, 확실히 상관성이 적은 feature를 빼니 성능이 좋아짐"
   ]
  }
 ],
 "metadata": {
  "kernelspec": {
   "display_name": "ml_env",
   "language": "python",
   "name": "python3"
  },
  "language_info": {
   "codemirror_mode": {
    "name": "ipython",
    "version": 3
   },
   "file_extension": ".py",
   "mimetype": "text/x-python",
   "name": "python",
   "nbconvert_exporter": "python",
   "pygments_lexer": "ipython3",
   "version": "3.12.11"
  }
 },
 "nbformat": 4,
 "nbformat_minor": 5
}
